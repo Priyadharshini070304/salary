{
 "cells": [
  {
   "cell_type": "code",
   "execution_count": 6,
   "id": "c96dbcb5",
   "metadata": {},
   "outputs": [
    {
     "name": "stdout",
     "output_type": "stream",
     "text": [
      "       company                  job     degree  salary_more_then_100k\n",
      "0       google      sales executive  bachelors                      0\n",
      "1       google      sales executive    masters                      0\n",
      "2       google     business manager  bachelors                      1\n",
      "3       google     business manager    masters                      1\n",
      "4       google  computer programmer  bachelors                      0\n",
      "5       google  computer programmer    masters                      1\n",
      "6   abc pharma      sales executive    masters                      0\n",
      "7   abc pharma  computer programmer  bachelors                      0\n",
      "8   abc pharma     business manager  bachelors                      0\n",
      "9   abc pharma     business manager    masters                      1\n",
      "10    facebook      sales executive  bachelors                      1\n",
      "11    facebook      sales executive    masters                      1\n",
      "12    facebook     business manager  bachelors                      1\n",
      "13    facebook     business manager    masters                      1\n",
      "14    facebook  computer programmer  bachelors                      1\n",
      "15    facebook  computer programmer    masters                      1\n"
     ]
    }
   ],
   "source": [
    "import pandas as pd\n",
    "from sklearn.linear_model import LogisticRegression\n",
    "saldf=pd.read_csv('salaries.csv')\n",
    "print(saldf.to_string())"
   ]
  },
  {
   "cell_type": "code",
   "execution_count": 7,
   "id": "5e71b6d7",
   "metadata": {},
   "outputs": [
    {
     "name": "stdout",
     "output_type": "stream",
     "text": [
      "       salary_more_then_100k\n",
      "count                 16.000\n",
      "mean                   0.625\n",
      "std                    0.500\n",
      "min                    0.000\n",
      "25%                    0.000\n",
      "50%                    1.000\n",
      "75%                    1.000\n",
      "max                    1.000\n",
      "                       salary_more_then_100k\n",
      "salary_more_then_100k                    1.0\n"
     ]
    },
    {
     "data": {
      "text/plain": [
       "array(['google', 'abc pharma', 'facebook'], dtype=object)"
      ]
     },
     "execution_count": 7,
     "metadata": {},
     "output_type": "execute_result"
    }
   ],
   "source": [
    "print(saldf.describe())\n",
    "print(saldf.corr().to_string())\n",
    "saldf['company'].unique()"
   ]
  },
  {
   "cell_type": "code",
   "execution_count": 18,
   "id": "e04c857a",
   "metadata": {},
   "outputs": [
    {
     "data": {
      "text/html": [
       "<div>\n",
       "<style scoped>\n",
       "    .dataframe tbody tr th:only-of-type {\n",
       "        vertical-align: middle;\n",
       "    }\n",
       "\n",
       "    .dataframe tbody tr th {\n",
       "        vertical-align: top;\n",
       "    }\n",
       "\n",
       "    .dataframe thead th {\n",
       "        text-align: right;\n",
       "    }\n",
       "</style>\n",
       "<table border=\"1\" class=\"dataframe\">\n",
       "  <thead>\n",
       "    <tr style=\"text-align: right;\">\n",
       "      <th></th>\n",
       "      <th>company_abc pharma</th>\n",
       "      <th>company_facebook</th>\n",
       "      <th>company_google</th>\n",
       "      <th>job_business manager</th>\n",
       "      <th>job_computer programmer</th>\n",
       "      <th>job_sales executive</th>\n",
       "      <th>degree_bachelors</th>\n",
       "      <th>degree_masters</th>\n",
       "    </tr>\n",
       "  </thead>\n",
       "  <tbody>\n",
       "    <tr>\n",
       "      <th>0</th>\n",
       "      <td>0</td>\n",
       "      <td>0</td>\n",
       "      <td>1</td>\n",
       "      <td>0</td>\n",
       "      <td>0</td>\n",
       "      <td>1</td>\n",
       "      <td>1</td>\n",
       "      <td>0</td>\n",
       "    </tr>\n",
       "    <tr>\n",
       "      <th>1</th>\n",
       "      <td>0</td>\n",
       "      <td>0</td>\n",
       "      <td>1</td>\n",
       "      <td>0</td>\n",
       "      <td>0</td>\n",
       "      <td>1</td>\n",
       "      <td>0</td>\n",
       "      <td>1</td>\n",
       "    </tr>\n",
       "    <tr>\n",
       "      <th>2</th>\n",
       "      <td>0</td>\n",
       "      <td>0</td>\n",
       "      <td>1</td>\n",
       "      <td>1</td>\n",
       "      <td>0</td>\n",
       "      <td>0</td>\n",
       "      <td>1</td>\n",
       "      <td>0</td>\n",
       "    </tr>\n",
       "    <tr>\n",
       "      <th>3</th>\n",
       "      <td>0</td>\n",
       "      <td>0</td>\n",
       "      <td>1</td>\n",
       "      <td>1</td>\n",
       "      <td>0</td>\n",
       "      <td>0</td>\n",
       "      <td>0</td>\n",
       "      <td>1</td>\n",
       "    </tr>\n",
       "    <tr>\n",
       "      <th>4</th>\n",
       "      <td>0</td>\n",
       "      <td>0</td>\n",
       "      <td>1</td>\n",
       "      <td>0</td>\n",
       "      <td>1</td>\n",
       "      <td>0</td>\n",
       "      <td>1</td>\n",
       "      <td>0</td>\n",
       "    </tr>\n",
       "    <tr>\n",
       "      <th>5</th>\n",
       "      <td>0</td>\n",
       "      <td>0</td>\n",
       "      <td>1</td>\n",
       "      <td>0</td>\n",
       "      <td>1</td>\n",
       "      <td>0</td>\n",
       "      <td>0</td>\n",
       "      <td>1</td>\n",
       "    </tr>\n",
       "    <tr>\n",
       "      <th>6</th>\n",
       "      <td>1</td>\n",
       "      <td>0</td>\n",
       "      <td>0</td>\n",
       "      <td>0</td>\n",
       "      <td>0</td>\n",
       "      <td>1</td>\n",
       "      <td>0</td>\n",
       "      <td>1</td>\n",
       "    </tr>\n",
       "    <tr>\n",
       "      <th>7</th>\n",
       "      <td>1</td>\n",
       "      <td>0</td>\n",
       "      <td>0</td>\n",
       "      <td>0</td>\n",
       "      <td>1</td>\n",
       "      <td>0</td>\n",
       "      <td>1</td>\n",
       "      <td>0</td>\n",
       "    </tr>\n",
       "    <tr>\n",
       "      <th>8</th>\n",
       "      <td>1</td>\n",
       "      <td>0</td>\n",
       "      <td>0</td>\n",
       "      <td>1</td>\n",
       "      <td>0</td>\n",
       "      <td>0</td>\n",
       "      <td>1</td>\n",
       "      <td>0</td>\n",
       "    </tr>\n",
       "    <tr>\n",
       "      <th>9</th>\n",
       "      <td>1</td>\n",
       "      <td>0</td>\n",
       "      <td>0</td>\n",
       "      <td>1</td>\n",
       "      <td>0</td>\n",
       "      <td>0</td>\n",
       "      <td>0</td>\n",
       "      <td>1</td>\n",
       "    </tr>\n",
       "    <tr>\n",
       "      <th>10</th>\n",
       "      <td>0</td>\n",
       "      <td>1</td>\n",
       "      <td>0</td>\n",
       "      <td>0</td>\n",
       "      <td>0</td>\n",
       "      <td>1</td>\n",
       "      <td>1</td>\n",
       "      <td>0</td>\n",
       "    </tr>\n",
       "    <tr>\n",
       "      <th>11</th>\n",
       "      <td>0</td>\n",
       "      <td>1</td>\n",
       "      <td>0</td>\n",
       "      <td>0</td>\n",
       "      <td>0</td>\n",
       "      <td>1</td>\n",
       "      <td>0</td>\n",
       "      <td>1</td>\n",
       "    </tr>\n",
       "    <tr>\n",
       "      <th>12</th>\n",
       "      <td>0</td>\n",
       "      <td>1</td>\n",
       "      <td>0</td>\n",
       "      <td>1</td>\n",
       "      <td>0</td>\n",
       "      <td>0</td>\n",
       "      <td>1</td>\n",
       "      <td>0</td>\n",
       "    </tr>\n",
       "    <tr>\n",
       "      <th>13</th>\n",
       "      <td>0</td>\n",
       "      <td>1</td>\n",
       "      <td>0</td>\n",
       "      <td>1</td>\n",
       "      <td>0</td>\n",
       "      <td>0</td>\n",
       "      <td>0</td>\n",
       "      <td>1</td>\n",
       "    </tr>\n",
       "    <tr>\n",
       "      <th>14</th>\n",
       "      <td>0</td>\n",
       "      <td>1</td>\n",
       "      <td>0</td>\n",
       "      <td>0</td>\n",
       "      <td>1</td>\n",
       "      <td>0</td>\n",
       "      <td>1</td>\n",
       "      <td>0</td>\n",
       "    </tr>\n",
       "    <tr>\n",
       "      <th>15</th>\n",
       "      <td>0</td>\n",
       "      <td>1</td>\n",
       "      <td>0</td>\n",
       "      <td>0</td>\n",
       "      <td>1</td>\n",
       "      <td>0</td>\n",
       "      <td>0</td>\n",
       "      <td>1</td>\n",
       "    </tr>\n",
       "  </tbody>\n",
       "</table>\n",
       "</div>"
      ],
      "text/plain": [
       "    company_abc pharma  company_facebook  company_google  \\\n",
       "0                    0                 0               1   \n",
       "1                    0                 0               1   \n",
       "2                    0                 0               1   \n",
       "3                    0                 0               1   \n",
       "4                    0                 0               1   \n",
       "5                    0                 0               1   \n",
       "6                    1                 0               0   \n",
       "7                    1                 0               0   \n",
       "8                    1                 0               0   \n",
       "9                    1                 0               0   \n",
       "10                   0                 1               0   \n",
       "11                   0                 1               0   \n",
       "12                   0                 1               0   \n",
       "13                   0                 1               0   \n",
       "14                   0                 1               0   \n",
       "15                   0                 1               0   \n",
       "\n",
       "    job_business manager  job_computer programmer  job_sales executive  \\\n",
       "0                      0                        0                    1   \n",
       "1                      0                        0                    1   \n",
       "2                      1                        0                    0   \n",
       "3                      1                        0                    0   \n",
       "4                      0                        1                    0   \n",
       "5                      0                        1                    0   \n",
       "6                      0                        0                    1   \n",
       "7                      0                        1                    0   \n",
       "8                      1                        0                    0   \n",
       "9                      1                        0                    0   \n",
       "10                     0                        0                    1   \n",
       "11                     0                        0                    1   \n",
       "12                     1                        0                    0   \n",
       "13                     1                        0                    0   \n",
       "14                     0                        1                    0   \n",
       "15                     0                        1                    0   \n",
       "\n",
       "    degree_bachelors  degree_masters  \n",
       "0                  1               0  \n",
       "1                  0               1  \n",
       "2                  1               0  \n",
       "3                  0               1  \n",
       "4                  1               0  \n",
       "5                  0               1  \n",
       "6                  0               1  \n",
       "7                  1               0  \n",
       "8                  1               0  \n",
       "9                  0               1  \n",
       "10                 1               0  \n",
       "11                 0               1  \n",
       "12                 1               0  \n",
       "13                 0               1  \n",
       "14                 1               0  \n",
       "15                 0               1  "
      ]
     },
     "execution_count": 18,
     "metadata": {},
     "output_type": "execute_result"
    }
   ],
   "source": [
    "x=saldf.drop(columns=['salary_more_then_100k'])\n",
    "y=saldf['salary_more_then_100k']\n",
    "x1=pd.get_dummies(x,dtype=int)\n",
    "x1"
   ]
  },
  {
   "cell_type": "code",
   "execution_count": 12,
   "id": "bd3a930c",
   "metadata": {},
   "outputs": [
    {
     "data": {
      "text/plain": [
       "0     0\n",
       "1     0\n",
       "2     1\n",
       "3     1\n",
       "4     0\n",
       "5     1\n",
       "6     0\n",
       "7     0\n",
       "8     0\n",
       "9     1\n",
       "10    1\n",
       "11    1\n",
       "12    1\n",
       "13    1\n",
       "14    1\n",
       "15    1\n",
       "Name: salary_more_then_100k, dtype: int64"
      ]
     },
     "execution_count": 12,
     "metadata": {},
     "output_type": "execute_result"
    }
   ],
   "source": [
    "y"
   ]
  },
  {
   "cell_type": "code",
   "execution_count": 22,
   "id": "f2ad7a2a",
   "metadata": {},
   "outputs": [
    {
     "data": {
      "text/plain": [
       "LogisticRegression()"
      ]
     },
     "execution_count": 22,
     "metadata": {},
     "output_type": "execute_result"
    }
   ],
   "source": [
    "model=LogisticRegression()\n",
    "model.fit(x1,y)"
   ]
  },
  {
   "cell_type": "code",
   "execution_count": 24,
   "id": "ea875088",
   "metadata": {},
   "outputs": [
    {
     "data": {
      "text/plain": [
       "array([1], dtype=int64)"
      ]
     },
     "execution_count": 24,
     "metadata": {},
     "output_type": "execute_result"
    }
   ],
   "source": [
    "model.predict([[1,0,0,1,0,0,1,1]])"
   ]
  },
  {
   "cell_type": "code",
   "execution_count": 25,
   "id": "ed6df234",
   "metadata": {},
   "outputs": [
    {
     "data": {
      "text/plain": [
       "0.9375"
      ]
     },
     "execution_count": 25,
     "metadata": {},
     "output_type": "execute_result"
    }
   ],
   "source": [
    "model.score(x1,y)"
   ]
  },
  {
   "cell_type": "code",
   "execution_count": 30,
   "id": "3c850c2a",
   "metadata": {},
   "outputs": [
    {
     "data": {
      "text/plain": [
       "<AxesSubplot:xlabel='company'>"
      ]
     },
     "execution_count": 30,
     "metadata": {},
     "output_type": "execute_result"
    },
    {
     "data": {
      "image/png": "[encoded data removed]",
      "text/plain": [
       "<Figure size 432x288 with 1 Axes>"
      ]
     },
     "metadata": {
      "needs_background": "light"
     },
     "output_type": "display_data"
    }
   ],
   "source": [
    "#from matplotlib import pyplot as plt\n",
    "pd.crosstab(saldf['company'],saldf['salary_more_then_100k']).plot(kind='bar')"
   ]
  },
  {
   "cell_type": "code",
   "execution_count": null,
   "id": "57a9d0b8",
   "metadata": {},
   "outputs": [],
   "source": []
  }
 ],
 "metadata": {
  "kernelspec": {
   "display_name": "Python 3 (ipykernel)",
   "language": "python",
   "name": "python3"
  },
  "language_info": {
   "codemirror_mode": {
    "name": "ipython",
    "version": 3
   },
   "file_extension": ".py",
   "mimetype": "text/x-python",
   "name": "python",
   "nbconvert_exporter": "python",
   "pygments_lexer": "ipython3",
   "version": "3.9.7"
  }
 },
 "nbformat": 4,
 "nbformat_minor": 5
}
